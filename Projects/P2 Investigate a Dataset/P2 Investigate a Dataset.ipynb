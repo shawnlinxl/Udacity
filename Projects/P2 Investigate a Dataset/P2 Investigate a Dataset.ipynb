{
 "cells": [
  {
   "cell_type": "markdown",
   "metadata": {},
   "source": [
    "# Investigate a Dataset\n",
    "\n",
    "## Dataset Used: _Titanic Data_\n",
    "The [dataset](https://d17h27t6h515a5.cloudfront.net/topher/2016/September/57e9a84c_titanic-data/titanic-data.csv) contains demographics and passenger information from 891 of the 2224 passengers and crew on board the Titanic. A detailed description of the dataset can be found [here](https://www.kaggle.com/c/titanic/data).\n",
    "\n",
    "## Description of data:  \n",
    "<code>Variable\tDefinition\t    Key\n",
    "survival\tSurvival\t    0 = No, 1 = Yes\n",
    "pclass\t  Ticket class\t1 = 1st, 2 = 2nd, 3 = 3rd\n",
    "sex\t     Sex\t\n",
    "Age\t     Age in years\t\n",
    "sibsp\t   # of siblings / spouses aboard the Titanic\t\n",
    "parch\t   # of parents / children aboard the Titanic\t\n",
    "ticket\t  Ticket number\t\n",
    "fare\t    Passenger fare\t\n",
    "cabin\t   Cabin number\t\n",
    "embarked\tPort of Embarkation\tC = Cherbourg, Q = Queenstown, S = Southampton\n",
    "Variable Notes\n",
    "\n",
    "pclass: A proxy for socio-economic status (SES)\n",
    "1st = Upper\n",
    "2nd = Middle\n",
    "3rd = Lower\n",
    "\n",
    "age: Age is fractional if less than 1. If the age is estimated, is it in the form of xx.5\n",
    "\n",
    "sibsp: The dataset defines family relations in this way...\n",
    "Sibling = brother, sister, stepbrother, stepsister\n",
    "Spouse = husband, wife (mistresses and fiancés were ignored)\n",
    "\n",
    "parch: The dataset defines family relations in this way...\n",
    "Parent = mother, father\n",
    "Child = daughter, son, stepdaughter, stepson\n",
    "Some children travelled only with a nanny, therefore parch=0 for them.\n",
    "</code>\n",
    "\n",
    "## Objectives\n",
    "Using the dataset provided, we aim to answer the following questions:\n",
    " 1. What factors made people more likely to survive?\n",
    " 2. How accurately can we make prediction on survival based on the features in hand?\n",
    " \n",
    "## Data Wrangling\n",
    "### Overview"
   ]
  },
  {
   "cell_type": "code",
   "execution_count": 1,
   "metadata": {
    "collapsed": false
   },
   "outputs": [
    {
     "data": {
      "text/html": [
       "<div>\n",
       "<table border=\"1\" class=\"dataframe\">\n",
       "  <thead>\n",
       "    <tr style=\"text-align: right;\">\n",
       "      <th></th>\n",
       "      <th>PassengerId</th>\n",
       "      <th>Survived</th>\n",
       "      <th>Pclass</th>\n",
       "      <th>Name</th>\n",
       "      <th>Sex</th>\n",
       "      <th>Age</th>\n",
       "      <th>SibSp</th>\n",
       "      <th>Parch</th>\n",
       "      <th>Ticket</th>\n",
       "      <th>Fare</th>\n",
       "      <th>Cabin</th>\n",
       "      <th>Embarked</th>\n",
       "    </tr>\n",
       "  </thead>\n",
       "  <tbody>\n",
       "    <tr>\n",
       "      <th>0</th>\n",
       "      <td>1</td>\n",
       "      <td>0</td>\n",
       "      <td>3</td>\n",
       "      <td>Braund, Mr. Owen Harris</td>\n",
       "      <td>male</td>\n",
       "      <td>22.0</td>\n",
       "      <td>1</td>\n",
       "      <td>0</td>\n",
       "      <td>A/5 21171</td>\n",
       "      <td>7.2500</td>\n",
       "      <td>NaN</td>\n",
       "      <td>S</td>\n",
       "    </tr>\n",
       "    <tr>\n",
       "      <th>1</th>\n",
       "      <td>2</td>\n",
       "      <td>1</td>\n",
       "      <td>1</td>\n",
       "      <td>Cumings, Mrs. John Bradley (Florence Briggs Th...</td>\n",
       "      <td>female</td>\n",
       "      <td>38.0</td>\n",
       "      <td>1</td>\n",
       "      <td>0</td>\n",
       "      <td>PC 17599</td>\n",
       "      <td>71.2833</td>\n",
       "      <td>C85</td>\n",
       "      <td>C</td>\n",
       "    </tr>\n",
       "    <tr>\n",
       "      <th>2</th>\n",
       "      <td>3</td>\n",
       "      <td>1</td>\n",
       "      <td>3</td>\n",
       "      <td>Heikkinen, Miss. Laina</td>\n",
       "      <td>female</td>\n",
       "      <td>26.0</td>\n",
       "      <td>0</td>\n",
       "      <td>0</td>\n",
       "      <td>STON/O2. 3101282</td>\n",
       "      <td>7.9250</td>\n",
       "      <td>NaN</td>\n",
       "      <td>S</td>\n",
       "    </tr>\n",
       "    <tr>\n",
       "      <th>3</th>\n",
       "      <td>4</td>\n",
       "      <td>1</td>\n",
       "      <td>1</td>\n",
       "      <td>Futrelle, Mrs. Jacques Heath (Lily May Peel)</td>\n",
       "      <td>female</td>\n",
       "      <td>35.0</td>\n",
       "      <td>1</td>\n",
       "      <td>0</td>\n",
       "      <td>113803</td>\n",
       "      <td>53.1000</td>\n",
       "      <td>C123</td>\n",
       "      <td>S</td>\n",
       "    </tr>\n",
       "    <tr>\n",
       "      <th>4</th>\n",
       "      <td>5</td>\n",
       "      <td>0</td>\n",
       "      <td>3</td>\n",
       "      <td>Allen, Mr. William Henry</td>\n",
       "      <td>male</td>\n",
       "      <td>35.0</td>\n",
       "      <td>0</td>\n",
       "      <td>0</td>\n",
       "      <td>373450</td>\n",
       "      <td>8.0500</td>\n",
       "      <td>NaN</td>\n",
       "      <td>S</td>\n",
       "    </tr>\n",
       "    <tr>\n",
       "      <th>5</th>\n",
       "      <td>6</td>\n",
       "      <td>0</td>\n",
       "      <td>3</td>\n",
       "      <td>Moran, Mr. James</td>\n",
       "      <td>male</td>\n",
       "      <td>NaN</td>\n",
       "      <td>0</td>\n",
       "      <td>0</td>\n",
       "      <td>330877</td>\n",
       "      <td>8.4583</td>\n",
       "      <td>NaN</td>\n",
       "      <td>Q</td>\n",
       "    </tr>\n",
       "    <tr>\n",
       "      <th>6</th>\n",
       "      <td>7</td>\n",
       "      <td>0</td>\n",
       "      <td>1</td>\n",
       "      <td>McCarthy, Mr. Timothy J</td>\n",
       "      <td>male</td>\n",
       "      <td>54.0</td>\n",
       "      <td>0</td>\n",
       "      <td>0</td>\n",
       "      <td>17463</td>\n",
       "      <td>51.8625</td>\n",
       "      <td>E46</td>\n",
       "      <td>S</td>\n",
       "    </tr>\n",
       "    <tr>\n",
       "      <th>7</th>\n",
       "      <td>8</td>\n",
       "      <td>0</td>\n",
       "      <td>3</td>\n",
       "      <td>Palsson, Master. Gosta Leonard</td>\n",
       "      <td>male</td>\n",
       "      <td>2.0</td>\n",
       "      <td>3</td>\n",
       "      <td>1</td>\n",
       "      <td>349909</td>\n",
       "      <td>21.0750</td>\n",
       "      <td>NaN</td>\n",
       "      <td>S</td>\n",
       "    </tr>\n",
       "    <tr>\n",
       "      <th>8</th>\n",
       "      <td>9</td>\n",
       "      <td>1</td>\n",
       "      <td>3</td>\n",
       "      <td>Johnson, Mrs. Oscar W (Elisabeth Vilhelmina Berg)</td>\n",
       "      <td>female</td>\n",
       "      <td>27.0</td>\n",
       "      <td>0</td>\n",
       "      <td>2</td>\n",
       "      <td>347742</td>\n",
       "      <td>11.1333</td>\n",
       "      <td>NaN</td>\n",
       "      <td>S</td>\n",
       "    </tr>\n",
       "    <tr>\n",
       "      <th>9</th>\n",
       "      <td>10</td>\n",
       "      <td>1</td>\n",
       "      <td>2</td>\n",
       "      <td>Nasser, Mrs. Nicholas (Adele Achem)</td>\n",
       "      <td>female</td>\n",
       "      <td>14.0</td>\n",
       "      <td>1</td>\n",
       "      <td>0</td>\n",
       "      <td>237736</td>\n",
       "      <td>30.0708</td>\n",
       "      <td>NaN</td>\n",
       "      <td>C</td>\n",
       "    </tr>\n",
       "  </tbody>\n",
       "</table>\n",
       "</div>"
      ],
      "text/plain": [
       "   PassengerId  Survived  Pclass  \\\n",
       "0            1         0       3   \n",
       "1            2         1       1   \n",
       "2            3         1       3   \n",
       "3            4         1       1   \n",
       "4            5         0       3   \n",
       "5            6         0       3   \n",
       "6            7         0       1   \n",
       "7            8         0       3   \n",
       "8            9         1       3   \n",
       "9           10         1       2   \n",
       "\n",
       "                                                Name     Sex   Age  SibSp  \\\n",
       "0                            Braund, Mr. Owen Harris    male  22.0      1   \n",
       "1  Cumings, Mrs. John Bradley (Florence Briggs Th...  female  38.0      1   \n",
       "2                             Heikkinen, Miss. Laina  female  26.0      0   \n",
       "3       Futrelle, Mrs. Jacques Heath (Lily May Peel)  female  35.0      1   \n",
       "4                           Allen, Mr. William Henry    male  35.0      0   \n",
       "5                                   Moran, Mr. James    male   NaN      0   \n",
       "6                            McCarthy, Mr. Timothy J    male  54.0      0   \n",
       "7                     Palsson, Master. Gosta Leonard    male   2.0      3   \n",
       "8  Johnson, Mrs. Oscar W (Elisabeth Vilhelmina Berg)  female  27.0      0   \n",
       "9                Nasser, Mrs. Nicholas (Adele Achem)  female  14.0      1   \n",
       "\n",
       "   Parch            Ticket     Fare Cabin Embarked  \n",
       "0      0         A/5 21171   7.2500   NaN        S  \n",
       "1      0          PC 17599  71.2833   C85        C  \n",
       "2      0  STON/O2. 3101282   7.9250   NaN        S  \n",
       "3      0            113803  53.1000  C123        S  \n",
       "4      0            373450   8.0500   NaN        S  \n",
       "5      0            330877   8.4583   NaN        Q  \n",
       "6      0             17463  51.8625   E46        S  \n",
       "7      1            349909  21.0750   NaN        S  \n",
       "8      2            347742  11.1333   NaN        S  \n",
       "9      0            237736  30.0708   NaN        C  "
      ]
     },
     "execution_count": 1,
     "metadata": {},
     "output_type": "execute_result"
    }
   ],
   "source": [
    "import pandas as pd\n",
    "import seaborn as sns\n",
    "import matplotlib.pyplot as plt\n",
    "% matplotlib inline\n",
    "\n",
    "titanic = pd.read_csv('titanic-data.csv') # Import data from .csv file \n",
    "titanic.head(10) # Preview the data"
   ]
  },
  {
   "cell_type": "code",
   "execution_count": 2,
   "metadata": {
    "collapsed": false,
    "scrolled": true
   },
   "outputs": [
    {
     "data": {
      "text/plain": [
       "PassengerId      int64\n",
       "Survived         int64\n",
       "Pclass           int64\n",
       "Name            object\n",
       "Sex             object\n",
       "Age            float64\n",
       "SibSp            int64\n",
       "Parch            int64\n",
       "Ticket          object\n",
       "Fare           float64\n",
       "Cabin           object\n",
       "Embarked        object\n",
       "dtype: object"
      ]
     },
     "execution_count": 2,
     "metadata": {},
     "output_type": "execute_result"
    }
   ],
   "source": [
    "titanic.dtypes # Check the data types for each column"
   ]
  },
  {
   "cell_type": "code",
   "execution_count": 3,
   "metadata": {
    "collapsed": false
   },
   "outputs": [
    {
     "data": {
      "text/html": [
       "<div>\n",
       "<table border=\"1\" class=\"dataframe\">\n",
       "  <thead>\n",
       "    <tr style=\"text-align: right;\">\n",
       "      <th></th>\n",
       "      <th>PassengerId</th>\n",
       "      <th>Survived</th>\n",
       "      <th>Pclass</th>\n",
       "      <th>Age</th>\n",
       "      <th>SibSp</th>\n",
       "      <th>Parch</th>\n",
       "      <th>Fare</th>\n",
       "    </tr>\n",
       "  </thead>\n",
       "  <tbody>\n",
       "    <tr>\n",
       "      <th>count</th>\n",
       "      <td>891.000000</td>\n",
       "      <td>891.000000</td>\n",
       "      <td>891.000000</td>\n",
       "      <td>714.000000</td>\n",
       "      <td>891.000000</td>\n",
       "      <td>891.000000</td>\n",
       "      <td>891.000000</td>\n",
       "    </tr>\n",
       "    <tr>\n",
       "      <th>mean</th>\n",
       "      <td>446.000000</td>\n",
       "      <td>0.383838</td>\n",
       "      <td>2.308642</td>\n",
       "      <td>29.699118</td>\n",
       "      <td>0.523008</td>\n",
       "      <td>0.381594</td>\n",
       "      <td>32.204208</td>\n",
       "    </tr>\n",
       "    <tr>\n",
       "      <th>std</th>\n",
       "      <td>257.353842</td>\n",
       "      <td>0.486592</td>\n",
       "      <td>0.836071</td>\n",
       "      <td>14.526497</td>\n",
       "      <td>1.102743</td>\n",
       "      <td>0.806057</td>\n",
       "      <td>49.693429</td>\n",
       "    </tr>\n",
       "    <tr>\n",
       "      <th>min</th>\n",
       "      <td>1.000000</td>\n",
       "      <td>0.000000</td>\n",
       "      <td>1.000000</td>\n",
       "      <td>0.420000</td>\n",
       "      <td>0.000000</td>\n",
       "      <td>0.000000</td>\n",
       "      <td>0.000000</td>\n",
       "    </tr>\n",
       "    <tr>\n",
       "      <th>25%</th>\n",
       "      <td>223.500000</td>\n",
       "      <td>0.000000</td>\n",
       "      <td>2.000000</td>\n",
       "      <td>20.125000</td>\n",
       "      <td>0.000000</td>\n",
       "      <td>0.000000</td>\n",
       "      <td>7.910400</td>\n",
       "    </tr>\n",
       "    <tr>\n",
       "      <th>50%</th>\n",
       "      <td>446.000000</td>\n",
       "      <td>0.000000</td>\n",
       "      <td>3.000000</td>\n",
       "      <td>28.000000</td>\n",
       "      <td>0.000000</td>\n",
       "      <td>0.000000</td>\n",
       "      <td>14.454200</td>\n",
       "    </tr>\n",
       "    <tr>\n",
       "      <th>75%</th>\n",
       "      <td>668.500000</td>\n",
       "      <td>1.000000</td>\n",
       "      <td>3.000000</td>\n",
       "      <td>38.000000</td>\n",
       "      <td>1.000000</td>\n",
       "      <td>0.000000</td>\n",
       "      <td>31.000000</td>\n",
       "    </tr>\n",
       "    <tr>\n",
       "      <th>max</th>\n",
       "      <td>891.000000</td>\n",
       "      <td>1.000000</td>\n",
       "      <td>3.000000</td>\n",
       "      <td>80.000000</td>\n",
       "      <td>8.000000</td>\n",
       "      <td>6.000000</td>\n",
       "      <td>512.329200</td>\n",
       "    </tr>\n",
       "  </tbody>\n",
       "</table>\n",
       "</div>"
      ],
      "text/plain": [
       "       PassengerId    Survived      Pclass         Age       SibSp  \\\n",
       "count   891.000000  891.000000  891.000000  714.000000  891.000000   \n",
       "mean    446.000000    0.383838    2.308642   29.699118    0.523008   \n",
       "std     257.353842    0.486592    0.836071   14.526497    1.102743   \n",
       "min       1.000000    0.000000    1.000000    0.420000    0.000000   \n",
       "25%     223.500000    0.000000    2.000000   20.125000    0.000000   \n",
       "50%     446.000000    0.000000    3.000000   28.000000    0.000000   \n",
       "75%     668.500000    1.000000    3.000000   38.000000    1.000000   \n",
       "max     891.000000    1.000000    3.000000   80.000000    8.000000   \n",
       "\n",
       "            Parch        Fare  \n",
       "count  891.000000  891.000000  \n",
       "mean     0.381594   32.204208  \n",
       "std      0.806057   49.693429  \n",
       "min      0.000000    0.000000  \n",
       "25%      0.000000    7.910400  \n",
       "50%      0.000000   14.454200  \n",
       "75%      0.000000   31.000000  \n",
       "max      6.000000  512.329200  "
      ]
     },
     "execution_count": 3,
     "metadata": {},
     "output_type": "execute_result"
    }
   ],
   "source": [
    "titanic.describe() # Check data types for each column"
   ]
  },
  {
   "cell_type": "code",
   "execution_count": 4,
   "metadata": {
    "collapsed": false
   },
   "outputs": [
    {
     "data": {
      "text/html": [
       "<div>\n",
       "<table border=\"1\" class=\"dataframe\">\n",
       "  <thead>\n",
       "    <tr style=\"text-align: right;\">\n",
       "      <th></th>\n",
       "      <th>Survived</th>\n",
       "      <th>Pclass</th>\n",
       "      <th>Sex</th>\n",
       "      <th>Age</th>\n",
       "      <th>SibSp</th>\n",
       "      <th>Parch</th>\n",
       "      <th>Fare</th>\n",
       "      <th>Cabin</th>\n",
       "      <th>Embarked</th>\n",
       "    </tr>\n",
       "  </thead>\n",
       "  <tbody>\n",
       "    <tr>\n",
       "      <th>0</th>\n",
       "      <td>0</td>\n",
       "      <td>3</td>\n",
       "      <td>male</td>\n",
       "      <td>22.0</td>\n",
       "      <td>1</td>\n",
       "      <td>0</td>\n",
       "      <td>7.2500</td>\n",
       "      <td>NaN</td>\n",
       "      <td>S</td>\n",
       "    </tr>\n",
       "    <tr>\n",
       "      <th>1</th>\n",
       "      <td>1</td>\n",
       "      <td>1</td>\n",
       "      <td>female</td>\n",
       "      <td>38.0</td>\n",
       "      <td>1</td>\n",
       "      <td>0</td>\n",
       "      <td>71.2833</td>\n",
       "      <td>C85</td>\n",
       "      <td>C</td>\n",
       "    </tr>\n",
       "    <tr>\n",
       "      <th>2</th>\n",
       "      <td>1</td>\n",
       "      <td>3</td>\n",
       "      <td>female</td>\n",
       "      <td>26.0</td>\n",
       "      <td>0</td>\n",
       "      <td>0</td>\n",
       "      <td>7.9250</td>\n",
       "      <td>NaN</td>\n",
       "      <td>S</td>\n",
       "    </tr>\n",
       "    <tr>\n",
       "      <th>3</th>\n",
       "      <td>1</td>\n",
       "      <td>1</td>\n",
       "      <td>female</td>\n",
       "      <td>35.0</td>\n",
       "      <td>1</td>\n",
       "      <td>0</td>\n",
       "      <td>53.1000</td>\n",
       "      <td>C123</td>\n",
       "      <td>S</td>\n",
       "    </tr>\n",
       "    <tr>\n",
       "      <th>4</th>\n",
       "      <td>0</td>\n",
       "      <td>3</td>\n",
       "      <td>male</td>\n",
       "      <td>35.0</td>\n",
       "      <td>0</td>\n",
       "      <td>0</td>\n",
       "      <td>8.0500</td>\n",
       "      <td>NaN</td>\n",
       "      <td>S</td>\n",
       "    </tr>\n",
       "  </tbody>\n",
       "</table>\n",
       "</div>"
      ],
      "text/plain": [
       "   Survived  Pclass     Sex   Age  SibSp  Parch     Fare Cabin Embarked\n",
       "0         0       3    male  22.0      1      0   7.2500   NaN        S\n",
       "1         1       1  female  38.0      1      0  71.2833   C85        C\n",
       "2         1       3  female  26.0      0      0   7.9250   NaN        S\n",
       "3         1       1  female  35.0      1      0  53.1000  C123        S\n",
       "4         0       3    male  35.0      0      0   8.0500   NaN        S"
      ]
     },
     "execution_count": 4,
     "metadata": {},
     "output_type": "execute_result"
    }
   ],
   "source": [
    "titanic = titanic.drop(['PassengerId', 'Name', 'Ticket'],axis = 1) # Dropping unnecessary columns\n",
    "titanic.head()"
   ]
  },
  {
   "cell_type": "code",
   "execution_count": 5,
   "metadata": {
    "collapsed": false
   },
   "outputs": [],
   "source": [
    "# Create Survival Label Column\n",
    "titanic['Survival'] = titanic.Survived.map({0 : 'Died', 1 : 'Survived'})\n",
    "# Create Pclass Label Column\n",
    "titanic['Class'] = titanic.Pclass.map({1 : 'First Class', 2 : 'Second Class', 3 : 'Third Class'})"
   ]
  },
  {
   "cell_type": "markdown",
   "metadata": {},
   "source": [
    "### Explore Missing Data and Filling Them"
   ]
  },
  {
   "cell_type": "code",
   "execution_count": 6,
   "metadata": {
    "collapsed": false
   },
   "outputs": [
    {
     "name": "stdout",
     "output_type": "stream",
     "text": [
      "Age\n",
      "     Survived  Pclass     Sex  Age  SibSp  Parch      Fare  Cabin Embarked  \\\n",
      "5           0       3    male  NaN      0      0    8.4583    NaN        Q   \n",
      "17          1       2    male  NaN      0      0   13.0000    NaN        S   \n",
      "19          1       3  female  NaN      0      0    7.2250    NaN        C   \n",
      "26          0       3    male  NaN      0      0    7.2250    NaN        C   \n",
      "28          1       3  female  NaN      0      0    7.8792    NaN        Q   \n",
      "29          0       3    male  NaN      0      0    7.8958    NaN        S   \n",
      "31          1       1  female  NaN      1      0  146.5208    B78        C   \n",
      "32          1       3  female  NaN      0      0    7.7500    NaN        Q   \n",
      "36          1       3    male  NaN      0      0    7.2292    NaN        C   \n",
      "42          0       3    male  NaN      0      0    7.8958    NaN        C   \n",
      "45          0       3    male  NaN      0      0    8.0500    NaN        S   \n",
      "46          0       3    male  NaN      1      0   15.5000    NaN        Q   \n",
      "47          1       3  female  NaN      0      0    7.7500    NaN        Q   \n",
      "48          0       3    male  NaN      2      0   21.6792    NaN        C   \n",
      "55          1       1    male  NaN      0      0   35.5000    C52        S   \n",
      "64          0       1    male  NaN      0      0   27.7208    NaN        C   \n",
      "65          1       3    male  NaN      1      1   15.2458    NaN        C   \n",
      "76          0       3    male  NaN      0      0    7.8958    NaN        S   \n",
      "77          0       3    male  NaN      0      0    8.0500    NaN        S   \n",
      "82          1       3  female  NaN      0      0    7.7875    NaN        Q   \n",
      "87          0       3    male  NaN      0      0    8.0500    NaN        S   \n",
      "95          0       3    male  NaN      0      0    8.0500    NaN        S   \n",
      "101         0       3    male  NaN      0      0    7.8958    NaN        S   \n",
      "107         1       3    male  NaN      0      0    7.7750    NaN        S   \n",
      "109         1       3  female  NaN      1      0   24.1500    NaN        Q   \n",
      "121         0       3    male  NaN      0      0    8.0500    NaN        S   \n",
      "126         0       3    male  NaN      0      0    7.7500    NaN        Q   \n",
      "128         1       3  female  NaN      1      1   22.3583  F E69        C   \n",
      "140         0       3  female  NaN      0      2   15.2458    NaN        C   \n",
      "154         0       3    male  NaN      0      0    7.3125    NaN        S   \n",
      "..        ...     ...     ...  ...    ...    ...       ...    ...      ...   \n",
      "718         0       3    male  NaN      0      0   15.5000    NaN        Q   \n",
      "727         1       3  female  NaN      0      0    7.7375    NaN        Q   \n",
      "732         0       2    male  NaN      0      0    0.0000    NaN        S   \n",
      "738         0       3    male  NaN      0      0    7.8958    NaN        S   \n",
      "739         0       3    male  NaN      0      0    7.8958    NaN        S   \n",
      "740         1       1    male  NaN      0      0   30.0000    D45        S   \n",
      "760         0       3    male  NaN      0      0   14.5000    NaN        S   \n",
      "766         0       1    male  NaN      0      0   39.6000    NaN        C   \n",
      "768         0       3    male  NaN      1      0   24.1500    NaN        Q   \n",
      "773         0       3    male  NaN      0      0    7.2250    NaN        C   \n",
      "776         0       3    male  NaN      0      0    7.7500    F38        Q   \n",
      "778         0       3    male  NaN      0      0    7.7375    NaN        Q   \n",
      "783         0       3    male  NaN      1      2   23.4500    NaN        S   \n",
      "790         0       3    male  NaN      0      0    7.7500    NaN        Q   \n",
      "792         0       3  female  NaN      8      2   69.5500    NaN        S   \n",
      "793         0       1    male  NaN      0      0   30.6958    NaN        C   \n",
      "815         0       1    male  NaN      0      0    0.0000   B102        S   \n",
      "825         0       3    male  NaN      0      0    6.9500    NaN        Q   \n",
      "826         0       3    male  NaN      0      0   56.4958    NaN        S   \n",
      "828         1       3    male  NaN      0      0    7.7500    NaN        Q   \n",
      "832         0       3    male  NaN      0      0    7.2292    NaN        C   \n",
      "837         0       3    male  NaN      0      0    8.0500    NaN        S   \n",
      "839         1       1    male  NaN      0      0   29.7000    C47        C   \n",
      "846         0       3    male  NaN      8      2   69.5500    NaN        S   \n",
      "849         1       1  female  NaN      1      0   89.1042    C92        C   \n",
      "859         0       3    male  NaN      0      0    7.2292    NaN        C   \n",
      "863         0       3  female  NaN      8      2   69.5500    NaN        S   \n",
      "868         0       3    male  NaN      0      0    9.5000    NaN        S   \n",
      "878         0       3    male  NaN      0      0    7.8958    NaN        S   \n",
      "888         0       3  female  NaN      1      2   23.4500    NaN        S   \n",
      "\n",
      "     Survival         Class  \n",
      "5        Died   Third Class  \n",
      "17   Survived  Second Class  \n",
      "19   Survived   Third Class  \n",
      "26       Died   Third Class  \n",
      "28   Survived   Third Class  \n",
      "29       Died   Third Class  \n",
      "31   Survived   First Class  \n",
      "32   Survived   Third Class  \n",
      "36   Survived   Third Class  \n",
      "42       Died   Third Class  \n",
      "45       Died   Third Class  \n",
      "46       Died   Third Class  \n",
      "47   Survived   Third Class  \n",
      "48       Died   Third Class  \n",
      "55   Survived   First Class  \n",
      "64       Died   First Class  \n",
      "65   Survived   Third Class  \n",
      "76       Died   Third Class  \n",
      "77       Died   Third Class  \n",
      "82   Survived   Third Class  \n",
      "87       Died   Third Class  \n",
      "95       Died   Third Class  \n",
      "101      Died   Third Class  \n",
      "107  Survived   Third Class  \n",
      "109  Survived   Third Class  \n",
      "121      Died   Third Class  \n",
      "126      Died   Third Class  \n",
      "128  Survived   Third Class  \n",
      "140      Died   Third Class  \n",
      "154      Died   Third Class  \n",
      "..        ...           ...  \n",
      "718      Died   Third Class  \n",
      "727  Survived   Third Class  \n",
      "732      Died  Second Class  \n",
      "738      Died   Third Class  \n",
      "739      Died   Third Class  \n",
      "740  Survived   First Class  \n",
      "760      Died   Third Class  \n",
      "766      Died   First Class  \n",
      "768      Died   Third Class  \n",
      "773      Died   Third Class  \n",
      "776      Died   Third Class  \n",
      "778      Died   Third Class  \n",
      "783      Died   Third Class  \n",
      "790      Died   Third Class  \n",
      "792      Died   Third Class  \n",
      "793      Died   First Class  \n",
      "815      Died   First Class  \n",
      "825      Died   Third Class  \n",
      "826      Died   Third Class  \n",
      "828  Survived   Third Class  \n",
      "832      Died   Third Class  \n",
      "837      Died   Third Class  \n",
      "839  Survived   First Class  \n",
      "846      Died   Third Class  \n",
      "849  Survived   First Class  \n",
      "859      Died   Third Class  \n",
      "863      Died   Third Class  \n",
      "868      Died   Third Class  \n",
      "878      Died   Third Class  \n",
      "888      Died   Third Class  \n",
      "\n",
      "[177 rows x 11 columns]\n",
      "Cabin\n",
      "     Survived  Pclass     Sex   Age  SibSp  Parch      Fare Cabin Embarked  \\\n",
      "0           0       3    male  22.0      1      0    7.2500   NaN        S   \n",
      "2           1       3  female  26.0      0      0    7.9250   NaN        S   \n",
      "4           0       3    male  35.0      0      0    8.0500   NaN        S   \n",
      "5           0       3    male   NaN      0      0    8.4583   NaN        Q   \n",
      "7           0       3    male   2.0      3      1   21.0750   NaN        S   \n",
      "8           1       3  female  27.0      0      2   11.1333   NaN        S   \n",
      "9           1       2  female  14.0      1      0   30.0708   NaN        C   \n",
      "12          0       3    male  20.0      0      0    8.0500   NaN        S   \n",
      "13          0       3    male  39.0      1      5   31.2750   NaN        S   \n",
      "14          0       3  female  14.0      0      0    7.8542   NaN        S   \n",
      "15          1       2  female  55.0      0      0   16.0000   NaN        S   \n",
      "16          0       3    male   2.0      4      1   29.1250   NaN        Q   \n",
      "17          1       2    male   NaN      0      0   13.0000   NaN        S   \n",
      "18          0       3  female  31.0      1      0   18.0000   NaN        S   \n",
      "19          1       3  female   NaN      0      0    7.2250   NaN        C   \n",
      "20          0       2    male  35.0      0      0   26.0000   NaN        S   \n",
      "22          1       3  female  15.0      0      0    8.0292   NaN        Q   \n",
      "24          0       3  female   8.0      3      1   21.0750   NaN        S   \n",
      "25          1       3  female  38.0      1      5   31.3875   NaN        S   \n",
      "26          0       3    male   NaN      0      0    7.2250   NaN        C   \n",
      "28          1       3  female   NaN      0      0    7.8792   NaN        Q   \n",
      "29          0       3    male   NaN      0      0    7.8958   NaN        S   \n",
      "30          0       1    male  40.0      0      0   27.7208   NaN        C   \n",
      "32          1       3  female   NaN      0      0    7.7500   NaN        Q   \n",
      "33          0       2    male  66.0      0      0   10.5000   NaN        S   \n",
      "34          0       1    male  28.0      1      0   82.1708   NaN        C   \n",
      "35          0       1    male  42.0      1      0   52.0000   NaN        S   \n",
      "36          1       3    male   NaN      0      0    7.2292   NaN        C   \n",
      "37          0       3    male  21.0      0      0    8.0500   NaN        S   \n",
      "38          0       3  female  18.0      2      0   18.0000   NaN        S   \n",
      "..        ...     ...     ...   ...    ...    ...       ...   ...      ...   \n",
      "852         0       3  female   9.0      1      1   15.2458   NaN        C   \n",
      "854         0       2  female  44.0      1      0   26.0000   NaN        S   \n",
      "855         1       3  female  18.0      0      1    9.3500   NaN        S   \n",
      "856         1       1  female  45.0      1      1  164.8667   NaN        S   \n",
      "858         1       3  female  24.0      0      3   19.2583   NaN        C   \n",
      "859         0       3    male   NaN      0      0    7.2292   NaN        C   \n",
      "860         0       3    male  41.0      2      0   14.1083   NaN        S   \n",
      "861         0       2    male  21.0      1      0   11.5000   NaN        S   \n",
      "863         0       3  female   NaN      8      2   69.5500   NaN        S   \n",
      "864         0       2    male  24.0      0      0   13.0000   NaN        S   \n",
      "865         1       2  female  42.0      0      0   13.0000   NaN        S   \n",
      "866         1       2  female  27.0      1      0   13.8583   NaN        C   \n",
      "868         0       3    male   NaN      0      0    9.5000   NaN        S   \n",
      "869         1       3    male   4.0      1      1   11.1333   NaN        S   \n",
      "870         0       3    male  26.0      0      0    7.8958   NaN        S   \n",
      "873         0       3    male  47.0      0      0    9.0000   NaN        S   \n",
      "874         1       2  female  28.0      1      0   24.0000   NaN        C   \n",
      "875         1       3  female  15.0      0      0    7.2250   NaN        C   \n",
      "876         0       3    male  20.0      0      0    9.8458   NaN        S   \n",
      "877         0       3    male  19.0      0      0    7.8958   NaN        S   \n",
      "878         0       3    male   NaN      0      0    7.8958   NaN        S   \n",
      "880         1       2  female  25.0      0      1   26.0000   NaN        S   \n",
      "881         0       3    male  33.0      0      0    7.8958   NaN        S   \n",
      "882         0       3  female  22.0      0      0   10.5167   NaN        S   \n",
      "883         0       2    male  28.0      0      0   10.5000   NaN        S   \n",
      "884         0       3    male  25.0      0      0    7.0500   NaN        S   \n",
      "885         0       3  female  39.0      0      5   29.1250   NaN        Q   \n",
      "886         0       2    male  27.0      0      0   13.0000   NaN        S   \n",
      "888         0       3  female   NaN      1      2   23.4500   NaN        S   \n",
      "890         0       3    male  32.0      0      0    7.7500   NaN        Q   \n",
      "\n",
      "     Survival         Class  \n",
      "0        Died   Third Class  \n",
      "2    Survived   Third Class  \n",
      "4        Died   Third Class  \n",
      "5        Died   Third Class  \n",
      "7        Died   Third Class  \n",
      "8    Survived   Third Class  \n",
      "9    Survived  Second Class  \n",
      "12       Died   Third Class  \n",
      "13       Died   Third Class  \n",
      "14       Died   Third Class  \n",
      "15   Survived  Second Class  \n",
      "16       Died   Third Class  \n",
      "17   Survived  Second Class  \n",
      "18       Died   Third Class  \n",
      "19   Survived   Third Class  \n",
      "20       Died  Second Class  \n",
      "22   Survived   Third Class  \n",
      "24       Died   Third Class  \n",
      "25   Survived   Third Class  \n",
      "26       Died   Third Class  \n",
      "28   Survived   Third Class  \n",
      "29       Died   Third Class  \n",
      "30       Died   First Class  \n",
      "32   Survived   Third Class  \n",
      "33       Died  Second Class  \n",
      "34       Died   First Class  \n",
      "35       Died   First Class  \n",
      "36   Survived   Third Class  \n",
      "37       Died   Third Class  \n",
      "38       Died   Third Class  \n",
      "..        ...           ...  \n",
      "852      Died   Third Class  \n",
      "854      Died  Second Class  \n",
      "855  Survived   Third Class  \n",
      "856  Survived   First Class  \n",
      "858  Survived   Third Class  \n",
      "859      Died   Third Class  \n",
      "860      Died   Third Class  \n",
      "861      Died  Second Class  \n",
      "863      Died   Third Class  \n",
      "864      Died  Second Class  \n",
      "865  Survived  Second Class  \n",
      "866  Survived  Second Class  \n",
      "868      Died   Third Class  \n",
      "869  Survived   Third Class  \n",
      "870      Died   Third Class  \n",
      "873      Died   Third Class  \n",
      "874  Survived  Second Class  \n",
      "875  Survived   Third Class  \n",
      "876      Died   Third Class  \n",
      "877      Died   Third Class  \n",
      "878      Died   Third Class  \n",
      "880  Survived  Second Class  \n",
      "881      Died   Third Class  \n",
      "882      Died   Third Class  \n",
      "883      Died  Second Class  \n",
      "884      Died   Third Class  \n",
      "885      Died   Third Class  \n",
      "886      Died  Second Class  \n",
      "888      Died   Third Class  \n",
      "890      Died   Third Class  \n",
      "\n",
      "[687 rows x 11 columns]\n",
      "Embarked\n",
      "     Survived  Pclass     Sex   Age  SibSp  Parch  Fare Cabin Embarked  \\\n",
      "61          1       1  female  38.0      0      0  80.0   B28      NaN   \n",
      "829         1       1  female  62.0      0      0  80.0   B28      NaN   \n",
      "\n",
      "     Survival        Class  \n",
      "61   Survived  First Class  \n",
      "829  Survived  First Class  \n"
     ]
    }
   ],
   "source": [
    "for column in titanic.columns:\n",
    "    if any(pd.isnull(titanic[column])): # Print out columns with missing data\n",
    "        print column\n",
    "        print titanic[pd.isnull(titanic[column])]"
   ]
  },
  {
   "cell_type": "markdown",
   "metadata": {},
   "source": [
    "Using the above code, we can see that some data are missing in the __Age__, __Cabin__ and __Embarked__ feature. In total, there are  \n",
    "* 177 __Age__, \n",
    "* 687 __Cabin__ \n",
    "* 2 __Embarked__\n",
    "\n",
    "data missing.\n",
    "In the following, we are going to explore the distribution of other features for the missing data point and decide on the methodology to fill them or to simply remove them."
   ]
  },
  {
   "cell_type": "markdown",
   "metadata": {},
   "source": [
    "#### Age\n",
    "Firt, for rows with age data, we will take a look at what is the relationship between features like pclass(socio-economic status), SibSp/Parch (family size) and age. Instead of using two columns SibSp/Parch seperately, we will add a new column 'Family' to the dataframe for evaluating of family size and survival."
   ]
  },
  {
   "cell_type": "code",
   "execution_count": 7,
   "metadata": {
    "collapsed": false
   },
   "outputs": [
    {
     "data": {
      "text/plain": [
       "Family\n",
       "0    32.220297\n",
       "1    31.391511\n",
       "2    26.035806\n",
       "3    18.274815\n",
       "4    20.818182\n",
       "5    18.409091\n",
       "6    15.166667\n",
       "7    15.666667\n",
       "Name: Age, dtype: float64"
      ]
     },
     "execution_count": 7,
     "metadata": {},
     "output_type": "execute_result"
    }
   ],
   "source": [
    "titanic['Family'] = titanic['Parch'] + titanic['SibSp']\n",
    "titanic[pd.notnull(titanic['Age'])].groupby('Family')['Age'].mean()"
   ]
  },
  {
   "cell_type": "code",
   "execution_count": 8,
   "metadata": {
    "collapsed": false
   },
   "outputs": [
    {
     "data": {
      "text/plain": [
       "Pclass\n",
       "1    38.233441\n",
       "2    29.877630\n",
       "3    25.140620\n",
       "Name: Age, dtype: float64"
      ]
     },
     "execution_count": 8,
     "metadata": {},
     "output_type": "execute_result"
    }
   ],
   "source": [
    "titanic[pd.notnull(titanic['Age'])].groupby('Pclass')['Age'].mean()"
   ]
  },
  {
   "cell_type": "code",
   "execution_count": 9,
   "metadata": {
    "collapsed": false
   },
   "outputs": [
    {
     "data": {
      "text/plain": [
       "Sex\n",
       "female    27.915709\n",
       "male      30.726645\n",
       "Name: Age, dtype: float64"
      ]
     },
     "execution_count": 9,
     "metadata": {},
     "output_type": "execute_result"
    }
   ],
   "source": [
    "titanic[pd.notnull(titanic['Age'])].groupby('Sex')['Age'].mean()"
   ]
  },
  {
   "cell_type": "code",
   "execution_count": 10,
   "metadata": {
    "collapsed": false
   },
   "outputs": [
    {
     "data": {
      "text/plain": [
       "Survived   -0.077221\n",
       "Pclass     -0.369226\n",
       "Age         1.000000\n",
       "SibSp      -0.308247\n",
       "Parch      -0.189119\n",
       "Fare        0.096067\n",
       "Family     -0.301914\n",
       "Name: Age, dtype: float64"
      ]
     },
     "execution_count": 10,
     "metadata": {},
     "output_type": "execute_result"
    }
   ],
   "source": [
    "titanic[pd.notnull(titanic['Age'])].corr()['Age']"
   ]
  },
  {
   "cell_type": "markdown",
   "metadata": {},
   "source": [
    "From the above tests, we can see clearly that the average age decreases as the family size increases and socio-economic status decreases. Males onboard tend to be older than females. Using these relationship, I think it is a good idea to fill the missing age data using an OLS regression."
   ]
  },
  {
   "cell_type": "code",
   "execution_count": 11,
   "metadata": {
    "collapsed": false
   },
   "outputs": [
    {
     "name": "stdout",
     "output_type": "stream",
     "text": [
      "                            OLS Regression Results                            \n",
      "==============================================================================\n",
      "Dep. Variable:                    Age   R-squared:                       0.224\n",
      "Model:                            OLS   Adj. R-squared:                  0.221\n",
      "Method:                 Least Squares   F-statistic:                     68.38\n",
      "Date:                Sun, 26 Mar 2017   Prob (F-statistic):           7.47e-39\n",
      "Time:                        14:29:30   Log-Likelihood:                -2832.7\n",
      "No. Observations:                 714   AIC:                             5673.\n",
      "Df Residuals:                     710   BIC:                             5692.\n",
      "Df Model:                           3                                         \n",
      "Covariance Type:            nonrobust                                         \n",
      "===============================================================================\n",
      "                  coef    std err          t      P>|t|      [0.025      0.975]\n",
      "-------------------------------------------------------------------------------\n",
      "Intercept      44.5803      1.476     30.209      0.000      41.683      47.478\n",
      "Sex[T.male]     2.9129      1.034      2.818      0.005       0.883       4.943\n",
      "Family         -2.5540      0.332     -7.688      0.000      -3.206      -1.902\n",
      "Pclass         -6.4016      0.582    -10.992      0.000      -7.545      -5.258\n",
      "==============================================================================\n",
      "Omnibus:                       33.069   Durbin-Watson:                   1.911\n",
      "Prob(Omnibus):                  0.000   Jarque-Bera (JB):               36.560\n",
      "Skew:                           0.525   Prob(JB):                     1.15e-08\n",
      "Kurtosis:                       3.357   Cond. No.                         9.51\n",
      "==============================================================================\n",
      "\n",
      "Warnings:\n",
      "[1] Standard Errors assume that the covariance matrix of the errors is correctly specified.\n"
     ]
    }
   ],
   "source": [
    "import statsmodels.formula.api as sm\n",
    "res = sm.ols(formula=\"Age ~ Sex + Family + Pclass\", data=titanic).fit()\n",
    "print res.summary()"
   ]
  },
  {
   "cell_type": "code",
   "execution_count": 12,
   "metadata": {
    "collapsed": false
   },
   "outputs": [
    {
     "data": {
      "text/plain": [
       "<matplotlib.text.Text at 0xb1dbe10>"
      ]
     },
     "execution_count": 12,
     "metadata": {},
     "output_type": "execute_result"
    },
    {
     "data": {
      "image/png": "[encoded data removed]",
      "text/plain": [
       "<matplotlib.figure.Figure at 0xb13b4e0>"
      ]
     },
     "metadata": {},
     "output_type": "display_data"
    }
   ],
   "source": [
    "titanic['Age'].hist(bins=range(int(min(titanic['Age'])), int(max(titanic['Age'])) + 1, 1))\n",
    "plt.xlabel('Age')\n",
    "plt.ylabel('Count')\n",
    "plt.title('Age Distribution Before Filling Missing Data')"
   ]
  },
  {
   "cell_type": "code",
   "execution_count": 13,
   "metadata": {
    "collapsed": false
   },
   "outputs": [
    {
     "data": {
      "text/plain": [
       "<matplotlib.text.Text at 0xb844400>"
      ]
     },
     "execution_count": 13,
     "metadata": {},
     "output_type": "execute_result"
    },
    {
     "data": {
      "image/png": "[encoded data removed]",
      "text/plain": [
       "<matplotlib.figure.Figure at 0xb496ba8>"
      ]
     },
     "metadata": {},
     "output_type": "display_data"
    }
   ],
   "source": [
    "pred = res.predict(titanic[pd.isnull(titanic['Age'])])\n",
    "pred = pred.apply(int)\n",
    "titanic['Age'].fillna(pred,inplace = True)\n",
    "titanic['Age'].hist(bins=range(int(min(titanic['Age'])), int(max(titanic['Age'])) + 1, 1))\n",
    "plt.xlabel('Age')\n",
    "plt.ylabel('Count')\n",
    "plt.title('Age Distribution After Filling Missing Data')"
   ]
  },
  {
   "cell_type": "markdown",
   "metadata": {},
   "source": [
    "From the above histograms for before and after filling, we can see that our method strongly favoured to fill na's with values around the mean, which resulted a peak at 29yrs old.\n",
    "\n",
    "#### Cabin\n",
    "We will take a quick look at the difference for features between passengers with and without cabin data."
   ]
  },
  {
   "cell_type": "code",
   "execution_count": 14,
   "metadata": {
    "collapsed": false
   },
   "outputs": [
    {
     "data": {
      "text/html": [
       "<div>\n",
       "<table border=\"1\" class=\"dataframe\">\n",
       "  <thead>\n",
       "    <tr style=\"text-align: right;\">\n",
       "      <th></th>\n",
       "      <th>Survived</th>\n",
       "      <th>Pclass</th>\n",
       "      <th>Age</th>\n",
       "      <th>SibSp</th>\n",
       "      <th>Parch</th>\n",
       "      <th>Fare</th>\n",
       "      <th>Family</th>\n",
       "    </tr>\n",
       "  </thead>\n",
       "  <tbody>\n",
       "    <tr>\n",
       "      <th>count</th>\n",
       "      <td>204.000000</td>\n",
       "      <td>204.000000</td>\n",
       "      <td>204.000000</td>\n",
       "      <td>204.000000</td>\n",
       "      <td>204.000000</td>\n",
       "      <td>204.000000</td>\n",
       "      <td>204.000000</td>\n",
       "    </tr>\n",
       "    <tr>\n",
       "      <th>mean</th>\n",
       "      <td>0.666667</td>\n",
       "      <td>1.196078</td>\n",
       "      <td>35.948137</td>\n",
       "      <td>0.441176</td>\n",
       "      <td>0.436275</td>\n",
       "      <td>76.141504</td>\n",
       "      <td>0.877451</td>\n",
       "    </tr>\n",
       "    <tr>\n",
       "      <th>std</th>\n",
       "      <td>0.472564</td>\n",
       "      <td>0.525961</td>\n",
       "      <td>15.031135</td>\n",
       "      <td>0.628918</td>\n",
       "      <td>0.729976</td>\n",
       "      <td>74.391749</td>\n",
       "      <td>1.082636</td>\n",
       "    </tr>\n",
       "    <tr>\n",
       "      <th>min</th>\n",
       "      <td>0.000000</td>\n",
       "      <td>1.000000</td>\n",
       "      <td>0.920000</td>\n",
       "      <td>0.000000</td>\n",
       "      <td>0.000000</td>\n",
       "      <td>0.000000</td>\n",
       "      <td>0.000000</td>\n",
       "    </tr>\n",
       "    <tr>\n",
       "      <th>25%</th>\n",
       "      <td>0.000000</td>\n",
       "      <td>1.000000</td>\n",
       "      <td>25.000000</td>\n",
       "      <td>0.000000</td>\n",
       "      <td>0.000000</td>\n",
       "      <td>29.453125</td>\n",
       "      <td>0.000000</td>\n",
       "    </tr>\n",
       "    <tr>\n",
       "      <th>50%</th>\n",
       "      <td>1.000000</td>\n",
       "      <td>1.000000</td>\n",
       "      <td>36.000000</td>\n",
       "      <td>0.000000</td>\n",
       "      <td>0.000000</td>\n",
       "      <td>55.220850</td>\n",
       "      <td>1.000000</td>\n",
       "    </tr>\n",
       "    <tr>\n",
       "      <th>75%</th>\n",
       "      <td>1.000000</td>\n",
       "      <td>1.000000</td>\n",
       "      <td>47.000000</td>\n",
       "      <td>1.000000</td>\n",
       "      <td>1.000000</td>\n",
       "      <td>89.328150</td>\n",
       "      <td>1.000000</td>\n",
       "    </tr>\n",
       "    <tr>\n",
       "      <th>max</th>\n",
       "      <td>1.000000</td>\n",
       "      <td>3.000000</td>\n",
       "      <td>80.000000</td>\n",
       "      <td>3.000000</td>\n",
       "      <td>4.000000</td>\n",
       "      <td>512.329200</td>\n",
       "      <td>5.000000</td>\n",
       "    </tr>\n",
       "  </tbody>\n",
       "</table>\n",
       "</div>"
      ],
      "text/plain": [
       "         Survived      Pclass         Age       SibSp       Parch        Fare  \\\n",
       "count  204.000000  204.000000  204.000000  204.000000  204.000000  204.000000   \n",
       "mean     0.666667    1.196078   35.948137    0.441176    0.436275   76.141504   \n",
       "std      0.472564    0.525961   15.031135    0.628918    0.729976   74.391749   \n",
       "min      0.000000    1.000000    0.920000    0.000000    0.000000    0.000000   \n",
       "25%      0.000000    1.000000   25.000000    0.000000    0.000000   29.453125   \n",
       "50%      1.000000    1.000000   36.000000    0.000000    0.000000   55.220850   \n",
       "75%      1.000000    1.000000   47.000000    1.000000    1.000000   89.328150   \n",
       "max      1.000000    3.000000   80.000000    3.000000    4.000000  512.329200   \n",
       "\n",
       "           Family  \n",
       "count  204.000000  \n",
       "mean     0.877451  \n",
       "std      1.082636  \n",
       "min      0.000000  \n",
       "25%      0.000000  \n",
       "50%      1.000000  \n",
       "75%      1.000000  \n",
       "max      5.000000  "
      ]
     },
     "execution_count": 14,
     "metadata": {},
     "output_type": "execute_result"
    }
   ],
   "source": [
    "titanic[pd.notnull(titanic['Cabin'])].describe()"
   ]
  },
  {
   "cell_type": "code",
   "execution_count": 15,
   "metadata": {
    "collapsed": false
   },
   "outputs": [
    {
     "data": {
      "text/html": [
       "<div>\n",
       "<table border=\"1\" class=\"dataframe\">\n",
       "  <thead>\n",
       "    <tr style=\"text-align: right;\">\n",
       "      <th></th>\n",
       "      <th>Survived</th>\n",
       "      <th>Pclass</th>\n",
       "      <th>Age</th>\n",
       "      <th>SibSp</th>\n",
       "      <th>Parch</th>\n",
       "      <th>Fare</th>\n",
       "      <th>Family</th>\n",
       "    </tr>\n",
       "  </thead>\n",
       "  <tbody>\n",
       "    <tr>\n",
       "      <th>count</th>\n",
       "      <td>687.000000</td>\n",
       "      <td>687.000000</td>\n",
       "      <td>687.000000</td>\n",
       "      <td>687.000000</td>\n",
       "      <td>687.000000</td>\n",
       "      <td>687.000000</td>\n",
       "      <td>687.000000</td>\n",
       "    </tr>\n",
       "    <tr>\n",
       "      <th>mean</th>\n",
       "      <td>0.299854</td>\n",
       "      <td>2.639010</td>\n",
       "      <td>27.334425</td>\n",
       "      <td>0.547307</td>\n",
       "      <td>0.365357</td>\n",
       "      <td>19.157325</td>\n",
       "      <td>0.912664</td>\n",
       "    </tr>\n",
       "    <tr>\n",
       "      <th>std</th>\n",
       "      <td>0.458528</td>\n",
       "      <td>0.589602</td>\n",
       "      <td>12.354845</td>\n",
       "      <td>1.207492</td>\n",
       "      <td>0.827106</td>\n",
       "      <td>28.663343</td>\n",
       "      <td>1.740765</td>\n",
       "    </tr>\n",
       "    <tr>\n",
       "      <th>min</th>\n",
       "      <td>0.000000</td>\n",
       "      <td>1.000000</td>\n",
       "      <td>0.000000</td>\n",
       "      <td>0.000000</td>\n",
       "      <td>0.000000</td>\n",
       "      <td>0.000000</td>\n",
       "      <td>0.000000</td>\n",
       "    </tr>\n",
       "    <tr>\n",
       "      <th>25%</th>\n",
       "      <td>0.000000</td>\n",
       "      <td>2.000000</td>\n",
       "      <td>21.000000</td>\n",
       "      <td>0.000000</td>\n",
       "      <td>0.000000</td>\n",
       "      <td>7.877100</td>\n",
       "      <td>0.000000</td>\n",
       "    </tr>\n",
       "    <tr>\n",
       "      <th>50%</th>\n",
       "      <td>0.000000</td>\n",
       "      <td>3.000000</td>\n",
       "      <td>28.000000</td>\n",
       "      <td>0.000000</td>\n",
       "      <td>0.000000</td>\n",
       "      <td>10.500000</td>\n",
       "      <td>0.000000</td>\n",
       "    </tr>\n",
       "    <tr>\n",
       "      <th>75%</th>\n",
       "      <td>1.000000</td>\n",
       "      <td>3.000000</td>\n",
       "      <td>33.000000</td>\n",
       "      <td>1.000000</td>\n",
       "      <td>0.000000</td>\n",
       "      <td>23.000000</td>\n",
       "      <td>1.000000</td>\n",
       "    </tr>\n",
       "    <tr>\n",
       "      <th>max</th>\n",
       "      <td>1.000000</td>\n",
       "      <td>3.000000</td>\n",
       "      <td>74.000000</td>\n",
       "      <td>8.000000</td>\n",
       "      <td>6.000000</td>\n",
       "      <td>512.329200</td>\n",
       "      <td>10.000000</td>\n",
       "    </tr>\n",
       "  </tbody>\n",
       "</table>\n",
       "</div>"
      ],
      "text/plain": [
       "         Survived      Pclass         Age       SibSp       Parch        Fare  \\\n",
       "count  687.000000  687.000000  687.000000  687.000000  687.000000  687.000000   \n",
       "mean     0.299854    2.639010   27.334425    0.547307    0.365357   19.157325   \n",
       "std      0.458528    0.589602   12.354845    1.207492    0.827106   28.663343   \n",
       "min      0.000000    1.000000    0.000000    0.000000    0.000000    0.000000   \n",
       "25%      0.000000    2.000000   21.000000    0.000000    0.000000    7.877100   \n",
       "50%      0.000000    3.000000   28.000000    0.000000    0.000000   10.500000   \n",
       "75%      1.000000    3.000000   33.000000    1.000000    0.000000   23.000000   \n",
       "max      1.000000    3.000000   74.000000    8.000000    6.000000  512.329200   \n",
       "\n",
       "           Family  \n",
       "count  687.000000  \n",
       "mean     0.912664  \n",
       "std      1.740765  \n",
       "min      0.000000  \n",
       "25%      0.000000  \n",
       "50%      0.000000  \n",
       "75%      1.000000  \n",
       "max     10.000000  "
      ]
     },
     "execution_count": 15,
     "metadata": {},
     "output_type": "execute_result"
    }
   ],
   "source": [
    "titanic[pd.isnull(titanic['Cabin'])].describe()"
   ]
  },
  {
   "cell_type": "markdown",
   "metadata": {},
   "source": [
    "In the above summary statistics, we can see that most passenger has missing cabin data because they are paying a low fare. I think this mostly makes sense as cheaper tickets tend not to be assigned to a specific cabin. Therefore, as the cabin information is already mostly covered by the fare feature, we can remove it.\n"
   ]
  },
  {
   "cell_type": "code",
   "execution_count": 16,
   "metadata": {
    "collapsed": false
   },
   "outputs": [],
   "source": [
    "titanic = titanic.drop('Cabin',axis = 1)"
   ]
  },
  {
   "cell_type": "markdown",
   "metadata": {},
   "source": [
    "#### Embarked\n",
    "Since there are only two embarked data missing, we will explore the statistics for each port and use a more discretionary way to fill these two."
   ]
  },
  {
   "cell_type": "code",
   "execution_count": 17,
   "metadata": {
    "collapsed": false
   },
   "outputs": [
    {
     "data": {
      "text/html": [
       "<div>\n",
       "<table border=\"1\" class=\"dataframe\">\n",
       "  <thead>\n",
       "    <tr style=\"text-align: right;\">\n",
       "      <th></th>\n",
       "      <th></th>\n",
       "      <th>Age</th>\n",
       "      <th>Family</th>\n",
       "      <th>Fare</th>\n",
       "      <th>Parch</th>\n",
       "      <th>Pclass</th>\n",
       "      <th>SibSp</th>\n",
       "      <th>Survived</th>\n",
       "    </tr>\n",
       "    <tr>\n",
       "      <th>Embarked</th>\n",
       "      <th></th>\n",
       "      <th></th>\n",
       "      <th></th>\n",
       "      <th></th>\n",
       "      <th></th>\n",
       "      <th></th>\n",
       "      <th></th>\n",
       "      <th></th>\n",
       "    </tr>\n",
       "  </thead>\n",
       "  <tbody>\n",
       "    <tr>\n",
       "      <th rowspan=\"8\" valign=\"top\">C</th>\n",
       "      <th>count</th>\n",
       "      <td>168.000000</td>\n",
       "      <td>168.000000</td>\n",
       "      <td>168.000000</td>\n",
       "      <td>168.000000</td>\n",
       "      <td>168.000000</td>\n",
       "      <td>168.000000</td>\n",
       "      <td>168.000000</td>\n",
       "    </tr>\n",
       "    <tr>\n",
       "      <th>mean</th>\n",
       "      <td>30.618571</td>\n",
       "      <td>0.750000</td>\n",
       "      <td>59.954144</td>\n",
       "      <td>0.363095</td>\n",
       "      <td>1.886905</td>\n",
       "      <td>0.386905</td>\n",
       "      <td>0.553571</td>\n",
       "    </tr>\n",
       "    <tr>\n",
       "      <th>std</th>\n",
       "      <td>13.928887</td>\n",
       "      <td>0.926974</td>\n",
       "      <td>83.912994</td>\n",
       "      <td>0.660481</td>\n",
       "      <td>0.944100</td>\n",
       "      <td>0.557213</td>\n",
       "      <td>0.498608</td>\n",
       "    </tr>\n",
       "    <tr>\n",
       "      <th>min</th>\n",
       "      <td>0.420000</td>\n",
       "      <td>0.000000</td>\n",
       "      <td>4.012500</td>\n",
       "      <td>0.000000</td>\n",
       "      <td>1.000000</td>\n",
       "      <td>0.000000</td>\n",
       "      <td>0.000000</td>\n",
       "    </tr>\n",
       "    <tr>\n",
       "      <th>25%</th>\n",
       "      <td>22.000000</td>\n",
       "      <td>0.000000</td>\n",
       "      <td>13.697950</td>\n",
       "      <td>0.000000</td>\n",
       "      <td>1.000000</td>\n",
       "      <td>0.000000</td>\n",
       "      <td>0.000000</td>\n",
       "    </tr>\n",
       "    <tr>\n",
       "      <th>50%</th>\n",
       "      <td>28.000000</td>\n",
       "      <td>0.000000</td>\n",
       "      <td>29.700000</td>\n",
       "      <td>0.000000</td>\n",
       "      <td>1.000000</td>\n",
       "      <td>0.000000</td>\n",
       "      <td>1.000000</td>\n",
       "    </tr>\n",
       "    <tr>\n",
       "      <th>75%</th>\n",
       "      <td>39.000000</td>\n",
       "      <td>1.000000</td>\n",
       "      <td>78.500025</td>\n",
       "      <td>1.000000</td>\n",
       "      <td>3.000000</td>\n",
       "      <td>1.000000</td>\n",
       "      <td>1.000000</td>\n",
       "    </tr>\n",
       "    <tr>\n",
       "      <th>max</th>\n",
       "      <td>71.000000</td>\n",
       "      <td>4.000000</td>\n",
       "      <td>512.329200</td>\n",
       "      <td>3.000000</td>\n",
       "      <td>3.000000</td>\n",
       "      <td>2.000000</td>\n",
       "      <td>1.000000</td>\n",
       "    </tr>\n",
       "    <tr>\n",
       "      <th rowspan=\"8\" valign=\"top\">Q</th>\n",
       "      <th>count</th>\n",
       "      <td>77.000000</td>\n",
       "      <td>77.000000</td>\n",
       "      <td>77.000000</td>\n",
       "      <td>77.000000</td>\n",
       "      <td>77.000000</td>\n",
       "      <td>77.000000</td>\n",
       "      <td>77.000000</td>\n",
       "    </tr>\n",
       "    <tr>\n",
       "      <th>mean</th>\n",
       "      <td>26.668831</td>\n",
       "      <td>0.597403</td>\n",
       "      <td>13.276030</td>\n",
       "      <td>0.168831</td>\n",
       "      <td>2.909091</td>\n",
       "      <td>0.428571</td>\n",
       "      <td>0.389610</td>\n",
       "    </tr>\n",
       "    <tr>\n",
       "      <th>std</th>\n",
       "      <td>10.313701</td>\n",
       "      <td>1.310481</td>\n",
       "      <td>14.188047</td>\n",
       "      <td>0.656999</td>\n",
       "      <td>0.369274</td>\n",
       "      <td>0.979105</td>\n",
       "      <td>0.490860</td>\n",
       "    </tr>\n",
       "    <tr>\n",
       "      <th>min</th>\n",
       "      <td>2.000000</td>\n",
       "      <td>0.000000</td>\n",
       "      <td>6.750000</td>\n",
       "      <td>0.000000</td>\n",
       "      <td>1.000000</td>\n",
       "      <td>0.000000</td>\n",
       "      <td>0.000000</td>\n",
       "    </tr>\n",
       "    <tr>\n",
       "      <th>25%</th>\n",
       "      <td>23.000000</td>\n",
       "      <td>0.000000</td>\n",
       "      <td>7.750000</td>\n",
       "      <td>0.000000</td>\n",
       "      <td>3.000000</td>\n",
       "      <td>0.000000</td>\n",
       "      <td>0.000000</td>\n",
       "    </tr>\n",
       "    <tr>\n",
       "      <th>50%</th>\n",
       "      <td>25.000000</td>\n",
       "      <td>0.000000</td>\n",
       "      <td>7.750000</td>\n",
       "      <td>0.000000</td>\n",
       "      <td>3.000000</td>\n",
       "      <td>0.000000</td>\n",
       "      <td>0.000000</td>\n",
       "    </tr>\n",
       "    <tr>\n",
       "      <th>75%</th>\n",
       "      <td>28.000000</td>\n",
       "      <td>1.000000</td>\n",
       "      <td>15.500000</td>\n",
       "      <td>0.000000</td>\n",
       "      <td>3.000000</td>\n",
       "      <td>0.000000</td>\n",
       "      <td>1.000000</td>\n",
       "    </tr>\n",
       "    <tr>\n",
       "      <th>max</th>\n",
       "      <td>70.500000</td>\n",
       "      <td>5.000000</td>\n",
       "      <td>90.000000</td>\n",
       "      <td>5.000000</td>\n",
       "      <td>3.000000</td>\n",
       "      <td>4.000000</td>\n",
       "      <td>1.000000</td>\n",
       "    </tr>\n",
       "    <tr>\n",
       "      <th rowspan=\"8\" valign=\"top\">S</th>\n",
       "      <th>count</th>\n",
       "      <td>644.000000</td>\n",
       "      <td>644.000000</td>\n",
       "      <td>644.000000</td>\n",
       "      <td>644.000000</td>\n",
       "      <td>644.000000</td>\n",
       "      <td>644.000000</td>\n",
       "      <td>644.000000</td>\n",
       "    </tr>\n",
       "    <tr>\n",
       "      <th>mean</th>\n",
       "      <td>29.215450</td>\n",
       "      <td>0.984472</td>\n",
       "      <td>27.079812</td>\n",
       "      <td>0.413043</td>\n",
       "      <td>2.350932</td>\n",
       "      <td>0.571429</td>\n",
       "      <td>0.336957</td>\n",
       "    </tr>\n",
       "    <tr>\n",
       "      <th>std</th>\n",
       "      <td>13.649041</td>\n",
       "      <td>1.774997</td>\n",
       "      <td>35.887993</td>\n",
       "      <td>0.853253</td>\n",
       "      <td>0.789402</td>\n",
       "      <td>1.216600</td>\n",
       "      <td>0.473037</td>\n",
       "    </tr>\n",
       "    <tr>\n",
       "      <th>min</th>\n",
       "      <td>0.000000</td>\n",
       "      <td>0.000000</td>\n",
       "      <td>0.000000</td>\n",
       "      <td>0.000000</td>\n",
       "      <td>1.000000</td>\n",
       "      <td>0.000000</td>\n",
       "      <td>0.000000</td>\n",
       "    </tr>\n",
       "    <tr>\n",
       "      <th>25%</th>\n",
       "      <td>21.000000</td>\n",
       "      <td>0.000000</td>\n",
       "      <td>8.050000</td>\n",
       "      <td>0.000000</td>\n",
       "      <td>2.000000</td>\n",
       "      <td>0.000000</td>\n",
       "      <td>0.000000</td>\n",
       "    </tr>\n",
       "    <tr>\n",
       "      <th>50%</th>\n",
       "      <td>28.000000</td>\n",
       "      <td>0.000000</td>\n",
       "      <td>13.000000</td>\n",
       "      <td>0.000000</td>\n",
       "      <td>3.000000</td>\n",
       "      <td>0.000000</td>\n",
       "      <td>0.000000</td>\n",
       "    </tr>\n",
       "    <tr>\n",
       "      <th>75%</th>\n",
       "      <td>36.125000</td>\n",
       "      <td>1.000000</td>\n",
       "      <td>27.900000</td>\n",
       "      <td>0.000000</td>\n",
       "      <td>3.000000</td>\n",
       "      <td>1.000000</td>\n",
       "      <td>1.000000</td>\n",
       "    </tr>\n",
       "    <tr>\n",
       "      <th>max</th>\n",
       "      <td>80.000000</td>\n",
       "      <td>10.000000</td>\n",
       "      <td>263.000000</td>\n",
       "      <td>6.000000</td>\n",
       "      <td>3.000000</td>\n",
       "      <td>8.000000</td>\n",
       "      <td>1.000000</td>\n",
       "    </tr>\n",
       "  </tbody>\n",
       "</table>\n",
       "</div>"
      ],
      "text/plain": [
       "                       Age      Family        Fare       Parch      Pclass  \\\n",
       "Embarked                                                                     \n",
       "C        count  168.000000  168.000000  168.000000  168.000000  168.000000   \n",
       "         mean    30.618571    0.750000   59.954144    0.363095    1.886905   \n",
       "         std     13.928887    0.926974   83.912994    0.660481    0.944100   \n",
       "         min      0.420000    0.000000    4.012500    0.000000    1.000000   \n",
       "         25%     22.000000    0.000000   13.697950    0.000000    1.000000   \n",
       "         50%     28.000000    0.000000   29.700000    0.000000    1.000000   \n",
       "         75%     39.000000    1.000000   78.500025    1.000000    3.000000   \n",
       "         max     71.000000    4.000000  512.329200    3.000000    3.000000   \n",
       "Q        count   77.000000   77.000000   77.000000   77.000000   77.000000   \n",
       "         mean    26.668831    0.597403   13.276030    0.168831    2.909091   \n",
       "         std     10.313701    1.310481   14.188047    0.656999    0.369274   \n",
       "         min      2.000000    0.000000    6.750000    0.000000    1.000000   \n",
       "         25%     23.000000    0.000000    7.750000    0.000000    3.000000   \n",
       "         50%     25.000000    0.000000    7.750000    0.000000    3.000000   \n",
       "         75%     28.000000    1.000000   15.500000    0.000000    3.000000   \n",
       "         max     70.500000    5.000000   90.000000    5.000000    3.000000   \n",
       "S        count  644.000000  644.000000  644.000000  644.000000  644.000000   \n",
       "         mean    29.215450    0.984472   27.079812    0.413043    2.350932   \n",
       "         std     13.649041    1.774997   35.887993    0.853253    0.789402   \n",
       "         min      0.000000    0.000000    0.000000    0.000000    1.000000   \n",
       "         25%     21.000000    0.000000    8.050000    0.000000    2.000000   \n",
       "         50%     28.000000    0.000000   13.000000    0.000000    3.000000   \n",
       "         75%     36.125000    1.000000   27.900000    0.000000    3.000000   \n",
       "         max     80.000000   10.000000  263.000000    6.000000    3.000000   \n",
       "\n",
       "                     SibSp    Survived  \n",
       "Embarked                                \n",
       "C        count  168.000000  168.000000  \n",
       "         mean     0.386905    0.553571  \n",
       "         std      0.557213    0.498608  \n",
       "         min      0.000000    0.000000  \n",
       "         25%      0.000000    0.000000  \n",
       "         50%      0.000000    1.000000  \n",
       "         75%      1.000000    1.000000  \n",
       "         max      2.000000    1.000000  \n",
       "Q        count   77.000000   77.000000  \n",
       "         mean     0.428571    0.389610  \n",
       "         std      0.979105    0.490860  \n",
       "         min      0.000000    0.000000  \n",
       "         25%      0.000000    0.000000  \n",
       "         50%      0.000000    0.000000  \n",
       "         75%      0.000000    1.000000  \n",
       "         max      4.000000    1.000000  \n",
       "S        count  644.000000  644.000000  \n",
       "         mean     0.571429    0.336957  \n",
       "         std      1.216600    0.473037  \n",
       "         min      0.000000    0.000000  \n",
       "         25%      0.000000    0.000000  \n",
       "         50%      0.000000    0.000000  \n",
       "         75%      1.000000    1.000000  \n",
       "         max      8.000000    1.000000  "
      ]
     },
     "execution_count": 17,
     "metadata": {},
     "output_type": "execute_result"
    }
   ],
   "source": [
    "titanic[pd.notnull(titanic['Embarked'])].groupby(['Embarked']).describe()"
   ]
  },
  {
   "cell_type": "markdown",
   "metadata": {},
   "source": [
    "Using the above description, we can see that most people embarked at **S**. **C** has the highest average fare and socio-economic status. Since both of the missing data paid a high fare (80) and has a high socia-economic status, we assign both of them to **C**."
   ]
  },
  {
   "cell_type": "code",
   "execution_count": 18,
   "metadata": {
    "collapsed": true
   },
   "outputs": [],
   "source": [
    "titanic['Embarked'].fillna('C',inplace = True)"
   ]
  },
  {
   "cell_type": "markdown",
   "metadata": {},
   "source": [
    "## Exploration\n",
    "### What factors made people more likely to survive?\n",
    "In the data wrangling phase, we have already built up some intuition on the data. We will be exploring several interesting idea here:\n",
    "1. Does socio-economic status impact the survival rate?\n",
    "2. Does a more expensive ticket help you survive?\n",
    "3. Do families survive or die together?\n",
    "\n",
    "#### Does socio-economic status impact the survival rate?\n",
    "We will first do a bar chart for the survival rate of people from different socio-economic status?"
   ]
  },
  {
   "cell_type": "code",
   "execution_count": 19,
   "metadata": {
    "collapsed": false
   },
   "outputs": [],
   "source": [
    "survival_pclass = titanic.groupby(['Class','Sex'], as_index=False)['Survived']"
   ]
  },
  {
   "cell_type": "code",
   "execution_count": 20,
   "metadata": {
    "collapsed": false
   },
   "outputs": [
    {
     "data": {
      "text/html": [
       "<div>\n",
       "<table border=\"1\" class=\"dataframe\">\n",
       "  <thead>\n",
       "    <tr style=\"text-align: right;\">\n",
       "      <th></th>\n",
       "      <th></th>\n",
       "      <th>count</th>\n",
       "      <th>mean</th>\n",
       "      <th>std</th>\n",
       "      <th>min</th>\n",
       "      <th>25%</th>\n",
       "      <th>50%</th>\n",
       "      <th>75%</th>\n",
       "      <th>max</th>\n",
       "    </tr>\n",
       "    <tr>\n",
       "      <th>Class</th>\n",
       "      <th>Sex</th>\n",
       "      <th></th>\n",
       "      <th></th>\n",
       "      <th></th>\n",
       "      <th></th>\n",
       "      <th></th>\n",
       "      <th></th>\n",
       "      <th></th>\n",
       "      <th></th>\n",
       "    </tr>\n",
       "  </thead>\n",
       "  <tbody>\n",
       "    <tr>\n",
       "      <th rowspan=\"2\" valign=\"top\">First Class</th>\n",
       "      <th>female</th>\n",
       "      <td>94.0</td>\n",
       "      <td>0.968085</td>\n",
       "      <td>0.176716</td>\n",
       "      <td>0.0</td>\n",
       "      <td>1.0</td>\n",
       "      <td>1.0</td>\n",
       "      <td>1.0</td>\n",
       "      <td>1.0</td>\n",
       "    </tr>\n",
       "    <tr>\n",
       "      <th>male</th>\n",
       "      <td>122.0</td>\n",
       "      <td>0.368852</td>\n",
       "      <td>0.484484</td>\n",
       "      <td>0.0</td>\n",
       "      <td>0.0</td>\n",
       "      <td>0.0</td>\n",
       "      <td>1.0</td>\n",
       "      <td>1.0</td>\n",
       "    </tr>\n",
       "    <tr>\n",
       "      <th rowspan=\"2\" valign=\"top\">Second Class</th>\n",
       "      <th>female</th>\n",
       "      <td>76.0</td>\n",
       "      <td>0.921053</td>\n",
       "      <td>0.271448</td>\n",
       "      <td>0.0</td>\n",
       "      <td>1.0</td>\n",
       "      <td>1.0</td>\n",
       "      <td>1.0</td>\n",
       "      <td>1.0</td>\n",
       "    </tr>\n",
       "    <tr>\n",
       "      <th>male</th>\n",
       "      <td>108.0</td>\n",
       "      <td>0.157407</td>\n",
       "      <td>0.365882</td>\n",
       "      <td>0.0</td>\n",
       "      <td>0.0</td>\n",
       "      <td>0.0</td>\n",
       "      <td>0.0</td>\n",
       "      <td>1.0</td>\n",
       "    </tr>\n",
       "    <tr>\n",
       "      <th rowspan=\"2\" valign=\"top\">Third Class</th>\n",
       "      <th>female</th>\n",
       "      <td>144.0</td>\n",
       "      <td>0.500000</td>\n",
       "      <td>0.501745</td>\n",
       "      <td>0.0</td>\n",
       "      <td>0.0</td>\n",
       "      <td>0.5</td>\n",
       "      <td>1.0</td>\n",
       "      <td>1.0</td>\n",
       "    </tr>\n",
       "    <tr>\n",
       "      <th>male</th>\n",
       "      <td>347.0</td>\n",
       "      <td>0.135447</td>\n",
       "      <td>0.342694</td>\n",
       "      <td>0.0</td>\n",
       "      <td>0.0</td>\n",
       "      <td>0.0</td>\n",
       "      <td>0.0</td>\n",
       "      <td>1.0</td>\n",
       "    </tr>\n",
       "  </tbody>\n",
       "</table>\n",
       "</div>"
      ],
      "text/plain": [
       "                     count      mean       std  min  25%  50%  75%  max\n",
       "Class        Sex                                                       \n",
       "First Class  female   94.0  0.968085  0.176716  0.0  1.0  1.0  1.0  1.0\n",
       "             male    122.0  0.368852  0.484484  0.0  0.0  0.0  1.0  1.0\n",
       "Second Class female   76.0  0.921053  0.271448  0.0  1.0  1.0  1.0  1.0\n",
       "             male    108.0  0.157407  0.365882  0.0  0.0  0.0  0.0  1.0\n",
       "Third Class  female  144.0  0.500000  0.501745  0.0  0.0  0.5  1.0  1.0\n",
       "             male    347.0  0.135447  0.342694  0.0  0.0  0.0  0.0  1.0"
      ]
     },
     "execution_count": 20,
     "metadata": {},
     "output_type": "execute_result"
    }
   ],
   "source": [
    "survival_pclass.describe()"
   ]
  },
  {
   "cell_type": "code",
   "execution_count": 21,
   "metadata": {
    "collapsed": false
   },
   "outputs": [
    {
     "data": {
      "text/html": [
       "<div>\n",
       "<table border=\"1\" class=\"dataframe\">\n",
       "  <thead>\n",
       "    <tr style=\"text-align: right;\">\n",
       "      <th></th>\n",
       "      <th>Class</th>\n",
       "      <th>Sex</th>\n",
       "      <th>Survived</th>\n",
       "    </tr>\n",
       "  </thead>\n",
       "  <tbody>\n",
       "    <tr>\n",
       "      <th>0</th>\n",
       "      <td>First Class</td>\n",
       "      <td>female</td>\n",
       "      <td>0.968085</td>\n",
       "    </tr>\n",
       "    <tr>\n",
       "      <th>1</th>\n",
       "      <td>First Class</td>\n",
       "      <td>male</td>\n",
       "      <td>0.368852</td>\n",
       "    </tr>\n",
       "    <tr>\n",
       "      <th>2</th>\n",
       "      <td>Second Class</td>\n",
       "      <td>female</td>\n",
       "      <td>0.921053</td>\n",
       "    </tr>\n",
       "    <tr>\n",
       "      <th>3</th>\n",
       "      <td>Second Class</td>\n",
       "      <td>male</td>\n",
       "      <td>0.157407</td>\n",
       "    </tr>\n",
       "    <tr>\n",
       "      <th>4</th>\n",
       "      <td>Third Class</td>\n",
       "      <td>female</td>\n",
       "      <td>0.500000</td>\n",
       "    </tr>\n",
       "    <tr>\n",
       "      <th>5</th>\n",
       "      <td>Third Class</td>\n",
       "      <td>male</td>\n",
       "      <td>0.135447</td>\n",
       "    </tr>\n",
       "  </tbody>\n",
       "</table>\n",
       "</div>"
      ],
      "text/plain": [
       "          Class     Sex  Survived\n",
       "0   First Class  female  0.968085\n",
       "1   First Class    male  0.368852\n",
       "2  Second Class  female  0.921053\n",
       "3  Second Class    male  0.157407\n",
       "4   Third Class  female  0.500000\n",
       "5   Third Class    male  0.135447"
      ]
     },
     "execution_count": 21,
     "metadata": {},
     "output_type": "execute_result"
    }
   ],
   "source": [
    "survival_pclass.mean()"
   ]
  },
  {
   "cell_type": "code",
   "execution_count": 22,
   "metadata": {
    "collapsed": false,
    "scrolled": true
   },
   "outputs": [
    {
     "data": {
      "text/plain": [
       "<matplotlib.text.Text at 0xba4bcc0>"
      ]
     },
     "execution_count": 22,
     "metadata": {},
     "output_type": "execute_result"
    },
    {
     "data": {
      "image/png": "[encoded data removed]",
      "text/plain": [
       "<matplotlib.figure.Figure at 0xb819400>"
      ]
     },
     "metadata": {},
     "output_type": "display_data"
    }
   ],
   "source": [
    "survival_pclass_mean = survival_pclass.mean()\n",
    "sns.barplot(x='Class', y='Survived', hue = 'Sex', data=survival_pclass_mean, order=['First Class','Second Class','Third Class'])\n",
    "plt.title('Average Survival Rate Across Socio-Economic Classes')\n",
    "plt.ylabel('Survival Rate')"
   ]
  },
  {
   "cell_type": "markdown",
   "metadata": {},
   "source": [
    "From the above statistics, we can see that females with higher socio-economic status (1/2) has high probability (>90%) of survival. This probability is followed by females of the lowest socio-economic status (~50%) and males of the highest socio-economic status (~37%)."
   ]
  },
  {
   "cell_type": "markdown",
   "metadata": {},
   "source": [
    "#### Does a more expensive ticket help you survive?\n",
    "First, we will look up the correlation between **Fare** and **Pclass**."
   ]
  },
  {
   "cell_type": "code",
   "execution_count": 23,
   "metadata": {
    "collapsed": false
   },
   "outputs": [
    {
     "data": {
      "text/plain": [
       "-0.54949961994390606"
      ]
     },
     "execution_count": 23,
     "metadata": {},
     "output_type": "execute_result"
    }
   ],
   "source": [
    "titanic.corr()['Fare']['Pclass']"
   ]
  },
  {
   "cell_type": "markdown",
   "metadata": {},
   "source": [
    "We can see there is a strong negative correlation between **Fare** and **Pclass**, which says that people of higher socio-economic class buys more expensive tickets. Therefore, we are curious about whether it's the ticket or the class that makes you survive. Let's start by defining expensive tickets for the poors as the 75th percentile of ticket price and cheap tickets for the richs as the 25th percentile of fares paid."
   ]
  },
  {
   "cell_type": "code",
   "execution_count": 24,
   "metadata": {
    "collapsed": false
   },
   "outputs": [
    {
     "data": {
      "text/plain": [
       "Class              \n",
       "First Class   count    216.000000\n",
       "              mean      84.154687\n",
       "              std       78.380373\n",
       "              min        0.000000\n",
       "              25%       30.923950\n",
       "              50%       60.287500\n",
       "              75%       93.500000\n",
       "              max      512.329200\n",
       "Second Class  count    184.000000\n",
       "              mean      20.662183\n",
       "              std       13.417399\n",
       "              min        0.000000\n",
       "              25%       13.000000\n",
       "              50%       14.250000\n",
       "              75%       26.000000\n",
       "              max       73.500000\n",
       "Third Class   count    491.000000\n",
       "              mean      13.675550\n",
       "              std       11.778142\n",
       "              min        0.000000\n",
       "              25%        7.750000\n",
       "              50%        8.050000\n",
       "              75%       15.500000\n",
       "              max       69.550000\n",
       "Name: Fare, dtype: float64"
      ]
     },
     "execution_count": 24,
     "metadata": {},
     "output_type": "execute_result"
    }
   ],
   "source": [
    "titanic.groupby('Class')['Fare'].describe()"
   ]
  },
  {
   "cell_type": "code",
   "execution_count": 25,
   "metadata": {
    "collapsed": false
   },
   "outputs": [
    {
     "name": "stdout",
     "output_type": "stream",
     "text": [
      "Rich but cheap: 0.462962962963\n",
      "Rich and expensive: 0.685185185185\n",
      "Poor and cheap: 0.225895316804\n",
      "Poor but expensive: 0.2890625\n"
     ]
    }
   ],
   "source": [
    "print 'Rich but cheap:',titanic.query('Pclass == 1 & Fare < 31')['Survived'].mean()\n",
    "print 'Rich and expensive:',titanic.query('Pclass == 1 & Fare >= 31')['Survived'].mean()\n",
    "print 'Poor and cheap:',titanic.query('Pclass == 3 & Fare < 15.5')['Survived'].mean()\n",
    "print 'Poor but expensive:',titanic.query('Pclass == 3 & Fare >= 15.5')['Survived'].mean()"
   ]
  },
  {
   "cell_type": "markdown",
   "metadata": {},
   "source": [
    "Using the above analysis, we can see that rich people who bought the cheaper tickets have a lower rate of survival than the rest. Poor people who bought the more expensive tickets have a higher rate of survival than the rest. Let's produce a scatter plot to demonstrate the relationship between fare and survival rate."
   ]
  },
  {
   "cell_type": "code",
   "execution_count": 26,
   "metadata": {
    "collapsed": false,
    "scrolled": true
   },
   "outputs": [],
   "source": [
    "survival_rate = []\n",
    "total_count = []\n",
    "low_price = range(0,int(max(titanic['Fare'])),5)\n",
    "for low in low_price:\n",
    "    high = low + 5\n",
    "    sample = titanic[(titanic['Fare'] >= low) & (titanic['Fare'] < high)]['Survived']\n",
    "    survival_rate.append(sample.mean())\n",
    "    total_count.append(sample.count())"
   ]
  },
  {
   "cell_type": "code",
   "execution_count": 27,
   "metadata": {
    "collapsed": false
   },
   "outputs": [
    {
     "data": {
      "text/plain": [
       "<matplotlib.text.Text at 0xd1727f0>"
      ]
     },
     "execution_count": 27,
     "metadata": {},
     "output_type": "execute_result"
    },
    {
     "data": {
      "image/png": "[encoded data removed]",
      "text/plain": [
       "<matplotlib.figure.Figure at 0xbbef710>"
      ]
     },
     "metadata": {},
     "output_type": "display_data"
    }
   ],
   "source": [
    "import matplotlib.pyplot as plt\n",
    "plt.scatter(list(low_price),survival_rate,s=total_count,alpha = 0.5)\n",
    "plt.xlabel('Fare')\n",
    "plt.ylabel('Survival Rate')\n",
    "plt.title('Surival Rate vs Fare')"
   ]
  },
  {
   "cell_type": "markdown",
   "metadata": {},
   "source": [
    "As we can see, there is a clear upward trend between the fare paid and the rate of survival. A more expensive ticket does in fact increase your chance of survival.\n",
    "\n",
    "#### Do families survive or die together?\n",
    "To answer this question, we will explore the relationship between the number of family members on board and rate of survival."
   ]
  },
  {
   "cell_type": "code",
   "execution_count": 28,
   "metadata": {
    "collapsed": false
   },
   "outputs": [],
   "source": [
    "survival_family = titanic.groupby(['Family'])['Survived']"
   ]
  },
  {
   "cell_type": "code",
   "execution_count": 29,
   "metadata": {
    "collapsed": false
   },
   "outputs": [
    {
     "data": {
      "text/plain": [
       "Family       \n",
       "0       count    537.000000\n",
       "        mean       0.303538\n",
       "        std        0.460214\n",
       "        min        0.000000\n",
       "        25%        0.000000\n",
       "        50%        0.000000\n",
       "        75%        1.000000\n",
       "        max        1.000000\n",
       "1       count    161.000000\n",
       "        mean       0.552795\n",
       "        std        0.498756\n",
       "        min        0.000000\n",
       "        25%        0.000000\n",
       "        50%        1.000000\n",
       "        75%        1.000000\n",
       "        max        1.000000\n",
       "2       count    102.000000\n",
       "        mean       0.578431\n",
       "        std        0.496249\n",
       "        min        0.000000\n",
       "        25%        0.000000\n",
       "        50%        1.000000\n",
       "        75%        1.000000\n",
       "        max        1.000000\n",
       "3       count     29.000000\n",
       "        mean       0.724138\n",
       "        std        0.454859\n",
       "        min        0.000000\n",
       "        25%        0.000000\n",
       "        50%        1.000000\n",
       "                    ...    \n",
       "5       std        0.351250\n",
       "        min        0.000000\n",
       "        25%        0.000000\n",
       "        50%        0.000000\n",
       "        75%        0.000000\n",
       "        max        1.000000\n",
       "6       count     12.000000\n",
       "        mean       0.333333\n",
       "        std        0.492366\n",
       "        min        0.000000\n",
       "        25%        0.000000\n",
       "        50%        0.000000\n",
       "        75%        1.000000\n",
       "        max        1.000000\n",
       "7       count      6.000000\n",
       "        mean       0.000000\n",
       "        std        0.000000\n",
       "        min        0.000000\n",
       "        25%        0.000000\n",
       "        50%        0.000000\n",
       "        75%        0.000000\n",
       "        max        0.000000\n",
       "10      count      7.000000\n",
       "        mean       0.000000\n",
       "        std        0.000000\n",
       "        min        0.000000\n",
       "        25%        0.000000\n",
       "        50%        0.000000\n",
       "        75%        0.000000\n",
       "        max        0.000000\n",
       "Name: Survived, dtype: float64"
      ]
     },
     "execution_count": 29,
     "metadata": {},
     "output_type": "execute_result"
    }
   ],
   "source": [
    "survival_family.describe()"
   ]
  },
  {
   "cell_type": "code",
   "execution_count": 30,
   "metadata": {
    "collapsed": false
   },
   "outputs": [
    {
     "data": {
      "text/plain": [
       "<matplotlib.text.Text at 0xd33a2e8>"
      ]
     },
     "execution_count": 30,
     "metadata": {},
     "output_type": "execute_result"
    },
    {
     "data": {
      "image/png": "[encoded data removed]",
      "text/plain": [
       "<matplotlib.figure.Figure at 0xd165c88>"
      ]
     },
     "metadata": {},
     "output_type": "display_data"
    }
   ],
   "source": [
    "plt.plot(survival_family.mean())\n",
    "plt.xlabel('Family Size')\n",
    "plt.ylabel('Survival Rate')\n",
    "plt.title('Average Survival Rate and Family Size')"
   ]
  },
  {
   "cell_type": "markdown",
   "metadata": {},
   "source": [
    "Using the above plot, we can clearly see that your survival rate increases as the number of family member you are travelling increases at first, up to 3. Then, a larger family size you are travelling with can actually cause you to die together. I suspect this is mainly because of males are allowed to be on the boats if they have a family. Therefore, we are going to look at how the survival rate varies by sex."
   ]
  },
  {
   "cell_type": "code",
   "execution_count": 31,
   "metadata": {
    "collapsed": false
   },
   "outputs": [
    {
     "data": {
      "text/plain": [
       "<matplotlib.text.Text at 0xd5cc710>"
      ]
     },
     "execution_count": 31,
     "metadata": {},
     "output_type": "execute_result"
    },
    {
     "data": {
      "text/plain": [
       "<matplotlib.figure.Figure at 0xd3e5d30>"
      ]
     },
     "metadata": {},
     "output_type": "display_data"
    },
    {
     "data": {
      "image/png": "[encoded data removed]",
      "text/plain": [
       "<matplotlib.figure.Figure at 0xd32f320>"
      ]
     },
     "metadata": {},
     "output_type": "display_data"
    }
   ],
   "source": [
    "plt.figure()\n",
    "titanic.groupby(['Family','Sex'])['Survived'].mean().unstack().plot()\n",
    "plt.xlabel('Family Size')\n",
    "plt.ylabel('Survival Rate')\n",
    "plt.title('Average Survival Rate and Family Size, by Sex')"
   ]
  },
  {
   "cell_type": "markdown",
   "metadata": {},
   "source": [
    "As we can see, as the number of family members onboard increases upto 3, the survival rate of the male member also increases.\n",
    "\n",
    "### How accurately can we make prediction on survival based on the features in hand?\n",
    "Now, we are going to try to use the data we have to see if we can correctly predict whether a person has survived the disaster. First, we are going to convert categorical features into numerical ones.\n",
    "#### Preprocessing Data"
   ]
  },
  {
   "cell_type": "code",
   "execution_count": 32,
   "metadata": {
    "collapsed": false
   },
   "outputs": [],
   "source": [
    "from sklearn import preprocessing\n",
    "\n",
    "# Transform Categorical Data for Learning\n",
    "titanic = titanic.apply(preprocessing.LabelEncoder().fit_transform)\n",
    "\n",
    "# Preparing data\n",
    "titanic_label = titanic['Survived']\n",
    "titanic_train = titanic.drop(['Survived','Class','Survival'], axis = 1)"
   ]
  },
  {
   "cell_type": "markdown",
   "metadata": {},
   "source": [
    "#### Cross-Validation\n",
    "After we have processed our data, we are going to test which classifier can most accurately predict the chances of survival using a 10-fold cross-validation. The score is given as the average percentage of correct predictions."
   ]
  },
  {
   "cell_type": "code",
   "execution_count": 33,
   "metadata": {
    "collapsed": false
   },
   "outputs": [
    {
     "name": "stdout",
     "output_type": "stream",
     "text": [
      "GaussianNB score: 0.772317557598\n",
      "Support Vector Machine score: 0.682364657814\n",
      "Random Forests: 0.817175122007\n",
      "Logistic Regression: 0.795800703666\n",
      "knn: 0.694811882874\n"
     ]
    }
   ],
   "source": [
    "# machine learning\n",
    "from sklearn.linear_model import LogisticRegression\n",
    "from sklearn.svm import SVC, LinearSVC\n",
    "from sklearn.ensemble import RandomForestClassifier\n",
    "from sklearn.neighbors import KNeighborsClassifier\n",
    "from sklearn.naive_bayes import GaussianNB\n",
    "\n",
    "from sklearn.model_selection import cross_val_score\n",
    "\n",
    "# Gaussian Native Bayes\n",
    "nb = GaussianNB()\n",
    "score = cross_val_score(nb, titanic_train, titanic_label, scoring='accuracy',cv=10) \n",
    "print 'GaussianNB score:', score.mean()\n",
    "\n",
    "# SVM\n",
    "svc = SVC()\n",
    "score = cross_val_score(svc, titanic_train, titanic_label, scoring='accuracy',cv=10) \n",
    "print 'Support Vector Machine score:', score.mean()\n",
    "\n",
    "# Random Forests\n",
    "rf = RandomForestClassifier(n_estimators=100)\n",
    "score = cross_val_score(rf, titanic_train, titanic_label, scoring='accuracy',cv=10) \n",
    "print 'Random Forests:', score.mean()\n",
    "\n",
    "# Logistic Regression\n",
    "logreg = LogisticRegression()\n",
    "score = cross_val_score(logreg, titanic_train, titanic_label, scoring='accuracy',cv=10) \n",
    "print 'Logistic Regression:', score.mean()\n",
    "\n",
    "# knn\n",
    "knn = KNeighborsClassifier(n_neighbors=3)\n",
    "score = cross_val_score(knn, titanic_train, titanic_label, scoring='accuracy',cv=10) \n",
    "print 'knn:', score.mean()"
   ]
  },
  {
   "cell_type": "markdown",
   "metadata": {},
   "source": [
    "As we can see from the scores, Random forests and logistic regression has the best performance among other classifiers. Without much feature engineering, we can already achieve ~80% prediction accuracy."
   ]
  },
  {
   "cell_type": "markdown",
   "metadata": {},
   "source": [
    "## Conclusion\n",
    "\n",
    "In our study, we have successfully answered some of the questions we had. In particular, we have reached the following conclusions:\n",
    "\n",
    "1. Your socio-economic status is highly correlated to your odds of survival. This is especially true for males, where males from pclass 1 has more than doubled probability of survival than the rest two classes. For women from the higher classes, the distinction is less obvious, as most of the will be rescued. However, women from pclass 3 has a much lower probability of survival.\n",
    "\n",
    "2. How much you paid for your ticket is also highly correlated to your odds of survival. As we've seen in our previous comparison, passengers from pclass 1 who bought the 25% cheapest tickets from their class has a ~20% less probability of survival. Passengers from pclass 3 who bought the 25% most expensive tickets from their class has a ~6% more probability of survival. Therefore, even though socio-economic status and fare are highly correlated, there is still new information revealed by the fare.\n",
    "\n",
    "3. People travelling alone and large families have a lower probability of survival then families of 2,3 and 4 people. My hypothesis is that families are often allowed to be on the boat together when the size is reasonable. Therefore, there are higher rate of survival for males with families. Therefore, actually having more family members onboard will help you survive if you are a male.\n",
    "\n",
    "4. We have done some interesting exploration in how accurately we can predict a person's probability of survival and has achieved about 80% accuracy using random forest in a 10-fold cross-validation.\n",
    "\n",
    "### Limitations\n",
    "It is worthwhile to note that our exploration has certain limitations:\n",
    "\n",
    "1. Our conclusion is reached purely based on statistical summaries and graphical illustrations. No statistical test has been performed. Therefore, most of the information and trend we have discovered are purely _correlation_. They do not imply _causation_.\n",
    "\n",
    "2. We have started with a dataset of many missing values. To make full use of the dataset, we have decided to fill in some missing data, namely their age and the port they embarked. The method that we used to fill in our data can impact our analysis, especially for the prediction part. As we have seen, after filling in the data, our distribution of age has changed, which may not be desirable. Each method of filling in data has its own pros and cons, and we may as well drop these rows."
   ]
  }
 ],
 "metadata": {
  "anaconda-cloud": {},
  "kernelspec": {
   "display_name": "Python [conda env:DAND]",
   "language": "python",
   "name": "conda-env-DAND-py"
  },
  "language_info": {
   "codemirror_mode": {
    "name": "ipython",
    "version": 2
   },
   "file_extension": ".py",
   "mimetype": "text/x-python",
   "name": "python",
   "nbconvert_exporter": "python",
   "pygments_lexer": "ipython2",
   "version": "2.7.12"
  }
 },
 "nbformat": 4,
 "nbformat_minor": 2
}
